{
 "cells": [
  {
   "cell_type": "code",
   "execution_count": 1,
   "id": "d352af00",
   "metadata": {},
   "outputs": [],
   "source": [
    "import pandas as pd\n",
    "from sklearn.preprocessing import LabelEncoder\n",
    "import numpy as np\n",
    "import matplotlib.pyplot as plt\n",
    "import seaborn as sns\n",
    "import bamboolib as bam\n",
    "\n",
    "df = pd.read_csv(\"/Users/rohitsoni/Downloads/bike_crash.csv\")"
   ]
  },
  {
   "cell_type": "code",
   "execution_count": 2,
   "id": "22c89516",
   "metadata": {},
   "outputs": [],
   "source": [
    "df['$1000 Damage to Any One Person\\'s Property'] = df['$1000 Damage to Any One Person\\'s Property'].map({'No': 0, 'Yes': 1})"
   ]
  },
  {
   "cell_type": "code",
   "execution_count": 3,
   "id": "a81398c0",
   "metadata": {},
   "outputs": [
    {
     "name": "stdout",
     "output_type": "stream",
     "text": [
      "['Incapacitating Injury' 'Non-Incapacitating Injury' 'Possible Injury'\n",
      " 'Not Injured' 'Killed']\n"
     ]
    }
   ],
   "source": [
    "print(df['Crash Severity'].unique())"
   ]
  },
  {
   "cell_type": "code",
   "execution_count": 4,
   "id": "839d3ae0",
   "metadata": {},
   "outputs": [
    {
     "name": "stdout",
     "output_type": "stream",
     "text": [
      "0    2193\n",
      "1     270\n",
      "Name: Crash Severity, dtype: int64\n"
     ]
    }
   ],
   "source": [
    "severity_mapping = {\n",
    "    'Not Injured': 0,                      # Low severity\n",
    "    'Possible Injury': 0,                  # Medium severity\n",
    "    'Non-Incapacitating Injury': 0,        # Medium severity\n",
    "    'Incapacitating Injury': 1,            # High severity\n",
    "    'Killed': 1                            # Highest severity\n",
    "}\n",
    "\n",
    "# Apply the mapping to the 'Crash Severity' column\n",
    "df['Crash Severity'] = df['Crash Severity'].map(severity_mapping)\n",
    "\n",
    "# Optional: Check the transformation has been applied correctly\n",
    "print(df['Crash Severity'].value_counts())\n"
   ]
  },
  {
   "cell_type": "code",
   "execution_count": 5,
   "id": "c3587381",
   "metadata": {},
   "outputs": [],
   "source": [
    "df['target'] = -1  # Default value for when both columns have value 0\n",
    "df.loc[(df['$1000 Damage to Any One Person\\'s Property'] == 1) & (df['Crash Severity'] == 1), 'target'] = 1\n",
    "df.loc[(df['$1000 Damage to Any One Person\\'s Property'] == 0) & (df['Crash Severity'] == 0), 'target'] = 0\n"
   ]
  },
  {
   "cell_type": "code",
   "execution_count": 6,
   "id": "b2d422a7",
   "metadata": {},
   "outputs": [
    {
     "data": {
      "image/png": "[encoded data removed]",
      "text/plain": [
       "<Figure size 800x600 with 1 Axes>"
      ]
     },
     "metadata": {},
     "output_type": "display_data"
    }
   ],
   "source": [
    "target_counts = df['target'].value_counts()\n",
    "\n",
    "# Plot the counts\n",
    "plt.figure(figsize=(8, 6))\n",
    "target_counts.plot(kind='bar', color='skyblue')\n",
    "plt.title('Count of Values in Target Column')\n",
    "plt.xlabel('Target Values')\n",
    "plt.ylabel('Count')\n",
    "plt.xticks(rotation=0)\n",
    "plt.show()"
   ]
  },
  {
   "cell_type": "code",
   "execution_count": 7,
   "id": "b4ac7428",
   "metadata": {},
   "outputs": [
    {
     "name": "stdout",
     "output_type": "stream",
     "text": [
      "0    02:39:00\n",
      "1    03:10:00\n",
      "2    03:10:00\n",
      "3    03:10:00\n",
      "4    23:00:00\n",
      "Name: Crash Time, dtype: object\n"
     ]
    }
   ],
   "source": [
    "# Convert 'Crash Time' to strings\n",
    "df['Crash Time'] = df['Crash Time'].astype(str)\n",
    "\n",
    "# Pad the strings with leading zeros to ensure they are 4 characters long\n",
    "df['Crash Time'] = df['Crash Time'].apply(lambda x: x.zfill(4))\n",
    "\n",
    "# Now, convert the formatted strings to datetime.time objects\n",
    "df['Crash Time'] = pd.to_datetime(df['Crash Time'], format='%H%M').dt.time\n",
    "\n",
    "# Check the first few entries to verify the conversion\n",
    "print(df['Crash Time'].head())\n"
   ]
  },
  {
   "cell_type": "code",
   "execution_count": 8,
   "id": "2967b0b7",
   "metadata": {},
   "outputs": [
    {
     "name": "stdout",
     "output_type": "stream",
     "text": [
      "Category to Numerical Mapping:\n",
      "'Morning Rush Hour': 0\n",
      "'Midday': 1\n",
      "'Afternoon Rush Hour': 2\n",
      "'Evening': 3\n",
      "'Late Night to Early Morning': 4\n",
      "'Unknown': 5\n",
      "0    4\n",
      "1    4\n",
      "2    4\n",
      "3    4\n",
      "4    3\n",
      "Name: Crash Time Category, dtype: int64\n"
     ]
    }
   ],
   "source": [
    "# Define a function to categorize and convert crash times to numerical codes directly\n",
    "def categorize_and_convert_crash_time(time_obj):\n",
    "    if pd.isnull(time_obj):\n",
    "        return 5  # 'Unknown'\n",
    "    hours = time_obj.hour\n",
    "    if 6 <= hours < 9:\n",
    "        return 0  # 'Morning Rush Hour'\n",
    "    elif 9 <= hours < 15:\n",
    "        return 1  # 'Midday'\n",
    "    elif 15 <= hours < 19:\n",
    "        return 2  # 'Afternoon Rush Hour'\n",
    "    elif 19 <= hours <= 23:\n",
    "        return 3  # 'Evening'\n",
    "    else:\n",
    "        return 4  # 'Late Night to Early Morning'\n",
    "\n",
    "# Assuming 'Crash Time' is already a datetime.time column\n",
    "df['Crash Time Category'] = df['Crash Time'].apply(categorize_and_convert_crash_time)\n",
    "\n",
    "# Mapping for reference\n",
    "category_to_numerical = {\n",
    "    'Morning Rush Hour': 0,\n",
    "    'Midday': 1,\n",
    "    'Afternoon Rush Hour': 2,\n",
    "    'Evening': 3,\n",
    "    'Late Night to Early Morning': 4,\n",
    "    'Unknown': 5\n",
    "}\n",
    "\n",
    "# Print the mapping for reference\n",
    "print(\"Category to Numerical Mapping:\")\n",
    "for category, numerical in category_to_numerical.items():\n",
    "    print(f\"'{category}': {numerical}\")\n",
    "\n",
    "# Optional: Verify the conversion by viewing the first few entries\n",
    "print(df['Crash Time Category'].head())\n"
   ]
  },
  {
   "cell_type": "code",
   "execution_count": 9,
   "id": "a10ce112",
   "metadata": {},
   "outputs": [
    {
     "name": "stdout",
     "output_type": "stream",
     "text": [
      "Category to Numerical Mapping:\n",
      "'Stop': 0\n",
      "'Slow Speed': 1\n",
      "'Medium Speed': 2\n",
      "'High Speed': 3\n",
      "'Unknown': 4\n",
      "0    3\n",
      "1    2\n",
      "2    2\n",
      "3    2\n",
      "4    3\n",
      "Name: Speed Category, dtype: int64\n"
     ]
    }
   ],
   "source": [
    "# Function to categorize speed limits\n",
    "def categorize_speed_limit(speed):\n",
    "    if -1 <= speed <= 0:\n",
    "        return 0  # Stop\n",
    "    elif 1 <= speed <= 20:\n",
    "        return 1  # Slow\n",
    "    elif 21 <= speed <= 40:\n",
    "        return 2  # Medium\n",
    "    else:\n",
    "        return 3  # High\n",
    "\n",
    "# Apply the function to the 'Speed Limit' column to create a new 'Speed Category' column\n",
    "df['Speed Category'] = df['Speed Limit'].apply(categorize_speed_limit)\n",
    "\n",
    "# Mapping for reference\n",
    "category_to_numerical_speed = {\n",
    "    'Stop': 0,\n",
    "    'Slow Speed': 1,\n",
    "    'Medium Speed': 2,\n",
    "    'High Speed': 3,\n",
    "    'Unknown': 4\n",
    "}\n",
    "\n",
    "# Print the mapping for reference\n",
    "print(\"Category to Numerical Mapping:\")\n",
    "for category, numerical in category_to_numerical_speed.items():\n",
    "    print(f\"'{category}': {numerical}\")\n",
    "\n",
    "# Optional: Verify the conversion by viewing the first few entries\n",
    "print(df['Speed Category'].head())\n"
   ]
  },
  {
   "cell_type": "code",
   "execution_count": 10,
   "id": "801a8b46",
   "metadata": {},
   "outputs": [
    {
     "name": "stdout",
     "output_type": "stream",
     "text": [
      "Mappings for $1000 Damage to Any One Person's Property: {0: 0, 1: 1}\n",
      "\n",
      "Mappings for Active School Zone Flag: {0: 'No', 1: 'Yes'}\n",
      "\n",
      "Mappings for At Intersection Flag: {0: False, 1: True}\n",
      "\n",
      "Mappings for Construction Zone Flag: {0: 'No', 1: 'Yes'}\n",
      "\n",
      "Mappings for Day of Week: {0: 'Friday', 1: 'Monday', 2: 'Saturday', 3: 'Sunday', 4: 'Thursday', 5: 'Tuesday', 6: 'Wednesday'}\n",
      "\n",
      "Mappings for Intersection Related: {0: 'Driveway Access', 1: 'Intersection', 2: 'Intersection Related', 3: 'Non Intersection', 4: 'Not Reported'}\n",
      "\n",
      "Mappings for Roadway Part: {0: 'Entrance/On Ramp', 1: 'Main/Proper Lane', 2: 'Other (Explain In Narrative)', 3: 'Service/Frontage Road'}\n",
      "\n",
      "Mappings for Person Helmet: {0: 'Not Worn', 1: 'Unknown If Worn', 2: 'Worn, Damaged', 3: 'Worn, Not Damaged', 4: 'Worn, Unk Damage'}\n",
      "\n",
      "Mappings for Surface Condition: {0: 'Dry', 1: 'Ice', 2: 'Other (Explain In Narrative)', 3: 'Sand, Mud, Dirt', 4: 'Standing Water', 5: 'Unknown', 6: 'Wet'}\n",
      "\n",
      "Mappings for Traffic Control Type: {0: 'Bike Lane', 1: 'Center Stripe/Divider', 2: 'Crosswalk', 3: 'Flagman', 4: 'Flashing Red Light', 5: 'Flashing Yellow Light', 6: 'Marked Lanes', 7: 'No Passing Zone', 8: 'None', 9: 'Officer', 10: 'Other (Explain In Narrative)', 11: 'Signal Light', 12: 'Signal Light With Red Light Running Camera', 13: 'Stop Sign', 14: 'Warning Sign', 15: 'Yield Sign'}\n",
      "\n",
      "Mappings for Crash Time Category: {0: 0, 1: 1, 2: 2, 3: 3, 4: 4}\n",
      "\n",
      "Mappings for Speed Category: {0: 0, 1: 1, 2: 2, 3: 3}\n",
      "\n"
     ]
    }
   ],
   "source": [
    "#df.rename(columns={'$1000 Damage to Any One Person\\'s Property': 'Damage to Property'}, inplace=True)\n",
    "# Identify categorical columns (You might need to adjust this list based on your dataset)\n",
    "categorical_columns = ['$1000 Damage to Any One Person\\'s Property','Active School Zone Flag','At Intersection Flag','Construction Zone Flag',  'Day of Week','Intersection Related', 'Roadway Part', 'Person Helmet', 'Surface Condition','Traffic Control Type', 'Crash Time Category','Speed Category']\n",
    "\n",
    "# Initialize LabelEncoders and apply them to each categorical column\n",
    "label_encoders = {}\n",
    "for col in categorical_columns:\n",
    "    le = LabelEncoder()\n",
    "    df[col] = le.fit_transform(df[col])\n",
    "    label_encoders[col] = le\n",
    "\n",
    "# Print out mappings for each categorical variable\n",
    "for col, le in label_encoders.items():\n",
    "    mappings = {index: label for index, label in enumerate(le.classes_)}\n",
    "    print(f'Mappings for {col}: {mappings}\\n')\n"
   ]
  },
  {
   "cell_type": "code",
   "execution_count": 11,
   "id": "17284381",
   "metadata": {},
   "outputs": [
    {
     "name": "stdout",
     "output_type": "stream",
     "text": [
      "Index(['$1000 Damage to Any One Person's Property', 'Active School Zone Flag',\n",
      "       'At Intersection Flag', 'Average Daily Traffic Amount',\n",
      "       'Construction Zone Flag', 'Crash Severity', 'Crash Time',\n",
      "       'Crash Total Injury Count', 'Crash Year', 'Day of Week',\n",
      "       'Intersection Related', 'Roadway Part', 'Speed Limit',\n",
      "       'Surface Condition', 'Traffic Control Type', 'Person Helmet', 'target',\n",
      "       'Crash Time Category', 'Speed Category'],\n",
      "      dtype='object')\n"
     ]
    }
   ],
   "source": [
    "print(df.columns)"
   ]
  },
  {
   "cell_type": "code",
   "execution_count": 12,
   "id": "0ceed64f",
   "metadata": {},
   "outputs": [
    {
     "name": "stdout",
     "output_type": "stream",
     "text": [
      "L1 Logistic Regression Accuracy: 0.6795131845841785\n",
      "              precision    recall  f1-score   support\n",
      "\n",
      "          -1       0.00      0.00      0.00       133\n",
      "           0       0.68      1.00      0.81       335\n",
      "           1       0.00      0.00      0.00        25\n",
      "\n",
      "    accuracy                           0.68       493\n",
      "   macro avg       0.23      0.33      0.27       493\n",
      "weighted avg       0.46      0.68      0.55       493\n",
      "\n",
      "Confusion Matrix for L1 Logistic Regression:\n",
      " [[  0 133   0]\n",
      " [  0 335   0]\n",
      " [  0  25   0]]\n"
     ]
    },
    {
     "data": {
      "text/plain": [
       "['logistic_regression_pipeline.joblib']"
      ]
     },
     "execution_count": 12,
     "metadata": {},
     "output_type": "execute_result"
    }
   ],
   "source": [
    "from sklearn.impute import SimpleImputer\n",
    "from sklearn.model_selection import train_test_split\n",
    "from sklearn.metrics import classification_report, accuracy_score\n",
    "from sklearn.preprocessing import StandardScaler, PolynomialFeatures\n",
    "from sklearn.linear_model import LogisticRegressionCV\n",
    "from sklearn.metrics import confusion_matrix\n",
    "from sklearn.pipeline import Pipeline\n",
    "from joblib import dump\n",
    "\n",
    "# Assuming df is your DataFrame\n",
    "\n",
    "selected =['Day of Week',\n",
    "        'Active School Zone Flag',\n",
    "        'Speed Category',\n",
    "        'Crash Time Category',\n",
    "        'Surface Condition',\n",
    "        'Person Helmet',\n",
    "        'Intersection Related',\n",
    "        'Construction Zone Flag',\n",
    "        'Roadway Part',\n",
    "        'Traffic Control Type']\n",
    "\n",
    "X= df[selected]\n",
    "\n",
    "y = df['target']\n",
    "\n",
    "# Splitting the dataset\n",
    "X_train, X_test, y_train, y_test = train_test_split(X, y, test_size=0.2, random_state=42)\n",
    "\n",
    "# Creating a pipeline with imputation, StandardScaler, PolynomialFeatures, and LogisticRegressionCV\n",
    "pipeline = Pipeline([\n",
    "    ('imputer', SimpleImputer(strategy='mean')),  # Impute missing values with the mean\n",
    "    ('scaler', StandardScaler()),\n",
    "    ('poly', PolynomialFeatures(degree=2, interaction_only=True, include_bias=False)),\n",
    "    ('logistic', LogisticRegressionCV(cv=5, penalty='l1', solver='saga', max_iter=500, random_state=42, scoring='accuracy'))\n",
    "])\n",
    "\n",
    "# Fitting the pipeline to the training data\n",
    "pipeline.fit(X_train, y_train)\n",
    "\n",
    "# Using the pipeline to predict\n",
    "y_pred_l1 = pipeline.predict(X_test)\n",
    "\n",
    "# Evaluation\n",
    "print(\"L1 Logistic Regression Accuracy:\", accuracy_score(y_test, y_pred_l1))\n",
    "print(classification_report(y_test, y_pred_l1))\n",
    "\n",
    "# Generate confusion matrix\n",
    "conf_matrix = confusion_matrix(y_test, y_pred_l1)\n",
    "print(\"Confusion Matrix for L1 Logistic Regression:\\n\", conf_matrix)\n",
    "\n",
    "# Saving the pipeline\n",
    "dump(pipeline, 'logistic_regression_pipeline.joblib')\n"
   ]
  },
  {
   "cell_type": "code",
   "execution_count": 13,
   "id": "06b5e243",
   "metadata": {},
   "outputs": [
    {
     "name": "stdout",
     "output_type": "stream",
     "text": [
      "Random Forest Accuracy: 0.6064908722109533\n",
      "              precision    recall  f1-score   support\n",
      "\n",
      "          -1       0.30      0.19      0.23       133\n",
      "           0       0.69      0.81      0.74       335\n",
      "           1       0.25      0.16      0.20        25\n",
      "\n",
      "    accuracy                           0.61       493\n",
      "   macro avg       0.41      0.38      0.39       493\n",
      "weighted avg       0.56      0.61      0.58       493\n",
      "\n",
      "Confusion Matrix for Random Forest:\n",
      " [[ 25 104   4]\n",
      " [ 57 270   8]\n",
      " [  1  20   4]]\n"
     ]
    },
    {
     "data": {
      "text/plain": [
       "['random_forest_model.joblib']"
      ]
     },
     "execution_count": 13,
     "metadata": {},
     "output_type": "execute_result"
    }
   ],
   "source": [
    "import pandas as pd\n",
    "from sklearn.preprocessing import LabelEncoder\n",
    "from sklearn.model_selection import train_test_split\n",
    "from sklearn.metrics import classification_report, accuracy_score, confusion_matrix\n",
    "from sklearn.ensemble import RandomForestClassifier\n",
    "from joblib import dump\n",
    "\n",
    "# Load the dataset\n",
    "\n",
    "# Perform feature engineering\n",
    "\n",
    "# Label Encoding for categorical variables\n",
    "label_encoders = {}\n",
    "categorical_columns = ['$1000 Damage to Any One Person\\'s Property','Active School Zone Flag','At Intersection Flag','Construction Zone Flag',  'Day of Week','Intersection Related', 'Roadway Part', 'Person Helmet', 'Surface Condition','Traffic Control Type']\n",
    "for col in categorical_columns:\n",
    "    le = LabelEncoder()\n",
    "    df[col] = le.fit_transform(df[col])\n",
    "    label_encoders[col] = le\n",
    "\n",
    "# Define features and target variable\n",
    "selected_features = ['Day of Week', 'Active School Zone Flag','Surface Condition', 'Person Helmet', 'Intersection Related', 'Construction Zone Flag', 'Roadway Part', 'Traffic Control Type']\n",
    "X = df[selected_features]\n",
    "y = df['target']\n",
    "\n",
    "# Split the dataset into train and test sets\n",
    "X_train, X_test, y_train, y_test = train_test_split(X, y, test_size=0.2, random_state=42)\n",
    "\n",
    "# Initialize and train the Random Forest model\n",
    "rf_model = RandomForestClassifier(n_estimators=100, random_state=42)\n",
    "rf_model.fit(X_train, y_train)\n",
    "\n",
    "# Predictions on the test set\n",
    "y_pred_rf = rf_model.predict(X_test)\n",
    "\n",
    "# Evaluate the Random Forest model\n",
    "rf_accuracy = accuracy_score(y_test, y_pred_rf)\n",
    "print(\"Random Forest Accuracy:\", rf_accuracy)\n",
    "print(classification_report(y_test, y_pred_rf))\n",
    "print(\"Confusion Matrix for Random Forest:\\n\", confusion_matrix(y_test, y_pred_rf))\n",
    "\n",
    "# Save the trained model\n",
    "dump(rf_model, 'random_forest_model.joblib')\n"
   ]
  },
  {
   "cell_type": "code",
   "execution_count": null,
   "id": "beabb20f",
   "metadata": {},
   "outputs": [],
   "source": []
  },
  {
   "cell_type": "code",
   "execution_count": null,
   "id": "89bf3db6",
   "metadata": {},
   "outputs": [],
   "source": []
  },
  {
   "cell_type": "code",
   "execution_count": null,
   "id": "e3a92ec7",
   "metadata": {},
   "outputs": [],
   "source": []
  },
  {
   "cell_type": "code",
   "execution_count": null,
   "id": "2d9c38ae",
   "metadata": {},
   "outputs": [],
   "source": []
  }
 ],
 "metadata": {
  "kernelspec": {
   "display_name": "Python 3 (ipykernel)",
   "language": "python",
   "name": "python3"
  },
  "language_info": {
   "codemirror_mode": {
    "name": "ipython",
    "version": 3
   },
   "file_extension": ".py",
   "mimetype": "text/x-python",
   "name": "python",
   "nbconvert_exporter": "python",
   "pygments_lexer": "ipython3",
   "version": "3.10.14"
  }
 },
 "nbformat": 4,
 "nbformat_minor": 5
}
